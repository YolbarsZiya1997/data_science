{
 "cells": [
  {
   "cell_type": "markdown",
   "metadata": {},
   "source": [
    "## Data Frames"
   ]
  },
  {
   "cell_type": "markdown",
   "metadata": {},
   "source": [
    "###### * A DataFrame is a table of columns and rows in pandas that we can easily restructure and filter\n",
    "###### * Formal Definition: A group of Pandas Series objects that share the same index"
   ]
  },
  {
   "cell_type": "markdown",
   "metadata": {},
   "source": [
    "##### Multiple data shares the same index"
   ]
  },
  {
   "cell_type": "code",
   "execution_count": 1,
   "metadata": {},
   "outputs": [],
   "source": [
    "import numpy as np\n",
    "import pandas as pd"
   ]
  },
  {
   "cell_type": "code",
   "execution_count": 3,
   "metadata": {},
   "outputs": [],
   "source": [
    "np.random.seed(101)\n",
    "my_data = np.random.randint(0, 101, (4, 3))"
   ]
  },
  {
   "cell_type": "code",
   "execution_count": 4,
   "metadata": {},
   "outputs": [
    {
     "data": {
      "text/plain": [
       "array([[95, 11, 81],\n",
       "       [70, 63, 87],\n",
       "       [75,  9, 77],\n",
       "       [40,  4, 63]])"
      ]
     },
     "execution_count": 4,
     "metadata": {},
     "output_type": "execute_result"
    }
   ],
   "source": [
    "my_data"
   ]
  },
  {
   "cell_type": "code",
   "execution_count": 5,
   "metadata": {},
   "outputs": [],
   "source": [
    "my_index   = ['CA', 'NY', 'AZ', 'TX']\n",
    "my_columns = ['Jan', 'Feb', 'Mar']"
   ]
  },
  {
   "cell_type": "code",
   "execution_count": 12,
   "metadata": {},
   "outputs": [],
   "source": [
    "df = pd.DataFrame(data=my_data, index=my_index, columns=my_columns)     # the pd.DataFrame(data, index, columns)"
   ]
  },
  {
   "cell_type": "code",
   "execution_count": 13,
   "metadata": {},
   "outputs": [
    {
     "data": {
      "text/html": [
       "<div>\n",
       "<style scoped>\n",
       "    .dataframe tbody tr th:only-of-type {\n",
       "        vertical-align: middle;\n",
       "    }\n",
       "\n",
       "    .dataframe tbody tr th {\n",
       "        vertical-align: top;\n",
       "    }\n",
       "\n",
       "    .dataframe thead th {\n",
       "        text-align: right;\n",
       "    }\n",
       "</style>\n",
       "<table border=\"1\" class=\"dataframe\">\n",
       "  <thead>\n",
       "    <tr style=\"text-align: right;\">\n",
       "      <th></th>\n",
       "      <th>Jan</th>\n",
       "      <th>Feb</th>\n",
       "      <th>Mar</th>\n",
       "    </tr>\n",
       "  </thead>\n",
       "  <tbody>\n",
       "    <tr>\n",
       "      <th>CA</th>\n",
       "      <td>95</td>\n",
       "      <td>11</td>\n",
       "      <td>81</td>\n",
       "    </tr>\n",
       "    <tr>\n",
       "      <th>NY</th>\n",
       "      <td>70</td>\n",
       "      <td>63</td>\n",
       "      <td>87</td>\n",
       "    </tr>\n",
       "    <tr>\n",
       "      <th>AZ</th>\n",
       "      <td>75</td>\n",
       "      <td>9</td>\n",
       "      <td>77</td>\n",
       "    </tr>\n",
       "    <tr>\n",
       "      <th>TX</th>\n",
       "      <td>40</td>\n",
       "      <td>4</td>\n",
       "      <td>63</td>\n",
       "    </tr>\n",
       "  </tbody>\n",
       "</table>\n",
       "</div>"
      ],
      "text/plain": [
       "    Jan  Feb  Mar\n",
       "CA   95   11   81\n",
       "NY   70   63   87\n",
       "AZ   75    9   77\n",
       "TX   40    4   63"
      ]
     },
     "execution_count": 13,
     "metadata": {},
     "output_type": "execute_result"
    }
   ],
   "source": [
    "df"
   ]
  },
  {
   "cell_type": "code",
   "execution_count": 14,
   "metadata": {},
   "outputs": [
    {
     "name": "stdout",
     "output_type": "stream",
     "text": [
      "<class 'pandas.core.frame.DataFrame'>\n",
      "Index: 4 entries, CA to TX\n",
      "Data columns (total 3 columns):\n",
      " #   Column  Non-Null Count  Dtype\n",
      "---  ------  --------------  -----\n",
      " 0   Jan     4 non-null      int64\n",
      " 1   Feb     4 non-null      int64\n",
      " 2   Mar     4 non-null      int64\n",
      "dtypes: int64(3)\n",
      "memory usage: 128.0+ bytes\n"
     ]
    }
   ],
   "source": [
    "df.info()"
   ]
  },
  {
   "cell_type": "code",
   "execution_count": 20,
   "metadata": {},
   "outputs": [],
   "source": [
    "df = pd.read_csv('/home/ziya/Documents/machine/03-Pandas/tips.csv')"
   ]
  },
  {
   "cell_type": "code",
   "execution_count": 21,
   "metadata": {},
   "outputs": [
    {
     "data": {
      "text/html": [
       "<div>\n",
       "<style scoped>\n",
       "    .dataframe tbody tr th:only-of-type {\n",
       "        vertical-align: middle;\n",
       "    }\n",
       "\n",
       "    .dataframe tbody tr th {\n",
       "        vertical-align: top;\n",
       "    }\n",
       "\n",
       "    .dataframe thead th {\n",
       "        text-align: right;\n",
       "    }\n",
       "</style>\n",
       "<table border=\"1\" class=\"dataframe\">\n",
       "  <thead>\n",
       "    <tr style=\"text-align: right;\">\n",
       "      <th></th>\n",
       "      <th>total_bill</th>\n",
       "      <th>tip</th>\n",
       "      <th>sex</th>\n",
       "      <th>smoker</th>\n",
       "      <th>day</th>\n",
       "      <th>time</th>\n",
       "      <th>size</th>\n",
       "      <th>price_per_person</th>\n",
       "      <th>Payer Name</th>\n",
       "      <th>CC Number</th>\n",
       "      <th>Payment ID</th>\n",
       "    </tr>\n",
       "  </thead>\n",
       "  <tbody>\n",
       "    <tr>\n",
       "      <th>0</th>\n",
       "      <td>16.99</td>\n",
       "      <td>1.01</td>\n",
       "      <td>Female</td>\n",
       "      <td>No</td>\n",
       "      <td>Sun</td>\n",
       "      <td>Dinner</td>\n",
       "      <td>2</td>\n",
       "      <td>8.49</td>\n",
       "      <td>Christy Cunningham</td>\n",
       "      <td>3560325168603410</td>\n",
       "      <td>Sun2959</td>\n",
       "    </tr>\n",
       "    <tr>\n",
       "      <th>1</th>\n",
       "      <td>10.34</td>\n",
       "      <td>1.66</td>\n",
       "      <td>Male</td>\n",
       "      <td>No</td>\n",
       "      <td>Sun</td>\n",
       "      <td>Dinner</td>\n",
       "      <td>3</td>\n",
       "      <td>3.45</td>\n",
       "      <td>Douglas Tucker</td>\n",
       "      <td>4478071379779230</td>\n",
       "      <td>Sun4608</td>\n",
       "    </tr>\n",
       "    <tr>\n",
       "      <th>2</th>\n",
       "      <td>21.01</td>\n",
       "      <td>3.50</td>\n",
       "      <td>Male</td>\n",
       "      <td>No</td>\n",
       "      <td>Sun</td>\n",
       "      <td>Dinner</td>\n",
       "      <td>3</td>\n",
       "      <td>7.00</td>\n",
       "      <td>Travis Walters</td>\n",
       "      <td>6011812112971322</td>\n",
       "      <td>Sun4458</td>\n",
       "    </tr>\n",
       "    <tr>\n",
       "      <th>3</th>\n",
       "      <td>23.68</td>\n",
       "      <td>3.31</td>\n",
       "      <td>Male</td>\n",
       "      <td>No</td>\n",
       "      <td>Sun</td>\n",
       "      <td>Dinner</td>\n",
       "      <td>2</td>\n",
       "      <td>11.84</td>\n",
       "      <td>Nathaniel Harris</td>\n",
       "      <td>4676137647685994</td>\n",
       "      <td>Sun5260</td>\n",
       "    </tr>\n",
       "    <tr>\n",
       "      <th>4</th>\n",
       "      <td>24.59</td>\n",
       "      <td>3.61</td>\n",
       "      <td>Female</td>\n",
       "      <td>No</td>\n",
       "      <td>Sun</td>\n",
       "      <td>Dinner</td>\n",
       "      <td>4</td>\n",
       "      <td>6.15</td>\n",
       "      <td>Tonya Carter</td>\n",
       "      <td>4832732618637221</td>\n",
       "      <td>Sun2251</td>\n",
       "    </tr>\n",
       "    <tr>\n",
       "      <th>...</th>\n",
       "      <td>...</td>\n",
       "      <td>...</td>\n",
       "      <td>...</td>\n",
       "      <td>...</td>\n",
       "      <td>...</td>\n",
       "      <td>...</td>\n",
       "      <td>...</td>\n",
       "      <td>...</td>\n",
       "      <td>...</td>\n",
       "      <td>...</td>\n",
       "      <td>...</td>\n",
       "    </tr>\n",
       "    <tr>\n",
       "      <th>239</th>\n",
       "      <td>29.03</td>\n",
       "      <td>5.92</td>\n",
       "      <td>Male</td>\n",
       "      <td>No</td>\n",
       "      <td>Sat</td>\n",
       "      <td>Dinner</td>\n",
       "      <td>3</td>\n",
       "      <td>9.68</td>\n",
       "      <td>Michael Avila</td>\n",
       "      <td>5296068606052842</td>\n",
       "      <td>Sat2657</td>\n",
       "    </tr>\n",
       "    <tr>\n",
       "      <th>240</th>\n",
       "      <td>27.18</td>\n",
       "      <td>2.00</td>\n",
       "      <td>Female</td>\n",
       "      <td>Yes</td>\n",
       "      <td>Sat</td>\n",
       "      <td>Dinner</td>\n",
       "      <td>2</td>\n",
       "      <td>13.59</td>\n",
       "      <td>Monica Sanders</td>\n",
       "      <td>3506806155565404</td>\n",
       "      <td>Sat1766</td>\n",
       "    </tr>\n",
       "    <tr>\n",
       "      <th>241</th>\n",
       "      <td>22.67</td>\n",
       "      <td>2.00</td>\n",
       "      <td>Male</td>\n",
       "      <td>Yes</td>\n",
       "      <td>Sat</td>\n",
       "      <td>Dinner</td>\n",
       "      <td>2</td>\n",
       "      <td>11.34</td>\n",
       "      <td>Keith Wong</td>\n",
       "      <td>6011891618747196</td>\n",
       "      <td>Sat3880</td>\n",
       "    </tr>\n",
       "    <tr>\n",
       "      <th>242</th>\n",
       "      <td>17.82</td>\n",
       "      <td>1.75</td>\n",
       "      <td>Male</td>\n",
       "      <td>No</td>\n",
       "      <td>Sat</td>\n",
       "      <td>Dinner</td>\n",
       "      <td>2</td>\n",
       "      <td>8.91</td>\n",
       "      <td>Dennis Dixon</td>\n",
       "      <td>4375220550950</td>\n",
       "      <td>Sat17</td>\n",
       "    </tr>\n",
       "    <tr>\n",
       "      <th>243</th>\n",
       "      <td>18.78</td>\n",
       "      <td>3.00</td>\n",
       "      <td>Female</td>\n",
       "      <td>No</td>\n",
       "      <td>Thur</td>\n",
       "      <td>Dinner</td>\n",
       "      <td>2</td>\n",
       "      <td>9.39</td>\n",
       "      <td>Michelle Hardin</td>\n",
       "      <td>3511451626698139</td>\n",
       "      <td>Thur672</td>\n",
       "    </tr>\n",
       "  </tbody>\n",
       "</table>\n",
       "<p>244 rows × 11 columns</p>\n",
       "</div>"
      ],
      "text/plain": [
       "     total_bill   tip     sex smoker   day    time  size  price_per_person  \\\n",
       "0         16.99  1.01  Female     No   Sun  Dinner     2              8.49   \n",
       "1         10.34  1.66    Male     No   Sun  Dinner     3              3.45   \n",
       "2         21.01  3.50    Male     No   Sun  Dinner     3              7.00   \n",
       "3         23.68  3.31    Male     No   Sun  Dinner     2             11.84   \n",
       "4         24.59  3.61  Female     No   Sun  Dinner     4              6.15   \n",
       "..          ...   ...     ...    ...   ...     ...   ...               ...   \n",
       "239       29.03  5.92    Male     No   Sat  Dinner     3              9.68   \n",
       "240       27.18  2.00  Female    Yes   Sat  Dinner     2             13.59   \n",
       "241       22.67  2.00    Male    Yes   Sat  Dinner     2             11.34   \n",
       "242       17.82  1.75    Male     No   Sat  Dinner     2              8.91   \n",
       "243       18.78  3.00  Female     No  Thur  Dinner     2              9.39   \n",
       "\n",
       "             Payer Name         CC Number Payment ID  \n",
       "0    Christy Cunningham  3560325168603410    Sun2959  \n",
       "1        Douglas Tucker  4478071379779230    Sun4608  \n",
       "2        Travis Walters  6011812112971322    Sun4458  \n",
       "3      Nathaniel Harris  4676137647685994    Sun5260  \n",
       "4          Tonya Carter  4832732618637221    Sun2251  \n",
       "..                  ...               ...        ...  \n",
       "239       Michael Avila  5296068606052842    Sat2657  \n",
       "240      Monica Sanders  3506806155565404    Sat1766  \n",
       "241          Keith Wong  6011891618747196    Sat3880  \n",
       "242        Dennis Dixon     4375220550950      Sat17  \n",
       "243     Michelle Hardin  3511451626698139    Thur672  \n",
       "\n",
       "[244 rows x 11 columns]"
      ]
     },
     "execution_count": 21,
     "metadata": {},
     "output_type": "execute_result"
    }
   ],
   "source": [
    "df"
   ]
  },
  {
   "cell_type": "code",
   "execution_count": null,
   "metadata": {},
   "outputs": [],
   "source": []
  }
 ],
 "metadata": {
  "interpreter": {
   "hash": "d2c0b1b0587005e25e86b1bf5f1f3b00289abebfc2e227670e1d81086932a668"
  },
  "kernelspec": {
   "display_name": "Python 3.9.7 ('dsfs')",
   "language": "python",
   "name": "python3"
  },
  "language_info": {
   "codemirror_mode": {
    "name": "ipython",
    "version": 3
   },
   "file_extension": ".py",
   "mimetype": "text/x-python",
   "name": "python",
   "nbconvert_exporter": "python",
   "pygments_lexer": "ipython3",
   "version": "3.9.7"
  },
  "orig_nbformat": 4
 },
 "nbformat": 4,
 "nbformat_minor": 2
}
