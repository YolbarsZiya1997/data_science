{
 "cells": [
  {
   "cell_type": "markdown",
   "metadata": {},
   "source": [
    "##### * Real World data will often be missing data for a variety of reasons\n",
    "##### * Many machine learning models and statistical methods can not work with missing data points, in which case we need to decide what to do with the missing data"
   ]
  },
  {
   "cell_type": "markdown",
   "metadata": {},
   "source": [
    "#### Keeping the missing data"
   ]
  },
  {
   "cell_type": "markdown",
   "metadata": {},
   "source": [
    "##### * Pros:\n",
    "      - Does not manipulate or change the true data\n",
    "      - Easiest to do"
   ]
  },
  {
   "cell_type": "markdown",
   "metadata": {},
   "source": [
    "##### * Cons:\n",
    "      - Many methods do not support NaN\n",
    "      - Often there are reasonable guesses"
   ]
  },
  {
   "cell_type": "code",
   "execution_count": null,
   "metadata": {},
   "outputs": [],
   "source": []
  }
 ],
 "metadata": {
  "interpreter": {
   "hash": "d2c0b1b0587005e25e86b1bf5f1f3b00289abebfc2e227670e1d81086932a668"
  },
  "kernelspec": {
   "display_name": "Python 3.9.7 ('dsfs')",
   "language": "python",
   "name": "python3"
  },
  "language_info": {
   "name": "python",
   "version": "3.9.7"
  },
  "orig_nbformat": 4
 },
 "nbformat": 4,
 "nbformat_minor": 2
}
